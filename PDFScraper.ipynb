from selenium import webdriver

#Script to get all the pdfs
driver = webdriver.Chrome()
driver = driver.get('https://www.linkedin.com/login')