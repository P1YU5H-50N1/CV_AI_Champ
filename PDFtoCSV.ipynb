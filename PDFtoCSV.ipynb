{
 "nbformat": 4,
 "nbformat_minor": 2,
 "metadata": {
  "language_info": {
   "name": "python",
   "codemirror_mode": {
    "name": "ipython",
    "version": 3
   },
   "version": "3.5.2-final"
  },
  "orig_nbformat": 2,
  "file_extension": ".py",
  "mimetype": "text/x-python",
  "name": "python",
  "npconvert_exporter": "python",
  "pygments_lexer": "ipython3",
  "version": 3,
  "kernelspec": {
   "name": "python35264bitd41e14d3817d4a75b52a2fb7556d800e",
   "display_name": "Python 3.5.2 64-bit"
  }
 },
 "cells": [
  {
   "cell_type": "code",
   "execution_count": 11,
   "metadata": {},
   "outputs": [
    {
     "output_type": "stream",
     "name": "stdout",
     "text": "\n                                                                               \n  Contact\n  +919915560830 (Mobile)\n                                        Mayank Pratap Singh\n  ms5618829@gmail.com                   Software Engineer at Arcesium(DE Shaw & Co.)\n                                        North Delhi\n  www.linkedin.com/in/mayank2316\n  (LinkedIn)\n  www.hackerrank.com/mshiv2316          Summary\n  (Other)\n                                        Inquisitive, focused Computer Science graduate with an eye for\n  Top Skills                            detail.\n  C++                                   Skilled in Data Structures & Algorithms and various programming\n  Data Structures                       languages(C++, Java and Python).\n  Python (Programming Language)         Also having good knowledge of Networking and Database.\n  Languages\n  Hindi (Native or Bilingual)           Experience\n  English (Professional Working)\n                                        Arcesium\n  Punjabi (Limited Working)\n                                        Software Engineer\n                                        June 2020 - Present (3 months)\n  Certifications                        Hyderabad, Telangana, India\n  Business Analyst\n  Digital Marketing\n                                        Chegg Inc.\n  Oracle Certification - Mastering Java Subject Matter Expert\n  for Beginners & Experts\n                                        February 2019 - Present (1 year 7 months)\n  Introduction to Data Science in\n  Python\n  Data Processing Specialist            Crio.Do\n                                        Intern\n                                        January 2020 - April 2020 (4 months)\n                                        Education\n                                        CHANDIGARH UNIVERSITY\n                                        Bachelor of Engineering - BE, Computer Software Engineering · (2016 - 2020)\n                                                                          Page 1 of 1\n\n"
    }
   ],
   "source": [
    "import pdftotext\n",
    "\n",
    "def pdftocsv(DocPath):\n",
    "\n",
    "with open(DocPath, \"rb\") as f:\n",
    "    pdf = pdftotext.PDF(f)\n",
    "\n",
    "CurrentdocCorpus = ''\n",
    "\n",
    "for page in pdf:\n",
    "    CurrentdocCorpus = CurrentdocCorpus + '\\n' + page\n",
    "\n",
    "return CurrentdocCorpus"
   ]
  }
 ]
}